{
 "cells": [
  {
   "cell_type": "code",
   "execution_count": 1,
   "metadata": {},
   "outputs": [
    {
     "data": {
      "text/plain": [
       "'C:\\\\Users\\\\jitin'"
      ]
     },
     "execution_count": 1,
     "metadata": {},
     "output_type": "execute_result"
    }
   ],
   "source": [
    "import os\n",
    "os.getcwd()"
   ]
  },
  {
   "cell_type": "code",
   "execution_count": 2,
   "metadata": {},
   "outputs": [],
   "source": [
    "os.chdir(\"C:/Users/jitin/OneDrive/Desktop/my project\")"
   ]
  },
  {
   "cell_type": "code",
   "execution_count": 3,
   "metadata": {},
   "outputs": [
    {
     "data": {
      "text/plain": [
       "'C:\\\\Users\\\\jitin\\\\OneDrive\\\\Desktop\\\\my project'"
      ]
     },
     "execution_count": 3,
     "metadata": {},
     "output_type": "execute_result"
    }
   ],
   "source": [
    "os.getcwd()"
   ]
  },
  {
   "cell_type": "code",
   "execution_count": 54,
   "metadata": {},
   "outputs": [],
   "source": [
    "import numpy as np\n",
    "import pandas as pd\n",
    "data=pd.read_csv(\"Book1.csv\")"
   ]
  },
  {
   "cell_type": "code",
   "execution_count": 9,
   "metadata": {},
   "outputs": [
    {
     "data": {
      "text/html": [
       "<div>\n",
       "<style scoped>\n",
       "    .dataframe tbody tr th:only-of-type {\n",
       "        vertical-align: middle;\n",
       "    }\n",
       "\n",
       "    .dataframe tbody tr th {\n",
       "        vertical-align: top;\n",
       "    }\n",
       "\n",
       "    .dataframe thead th {\n",
       "        text-align: right;\n",
       "    }\n",
       "</style>\n",
       "<table border=\"1\" class=\"dataframe\">\n",
       "  <thead>\n",
       "    <tr style=\"text-align: right;\">\n",
       "      <th></th>\n",
       "      <th>player name</th>\n",
       "      <th>nation</th>\n",
       "      <th>age</th>\n",
       "      <th>matches played</th>\n",
       "      <th>highest score</th>\n",
       "      <th>lowest score</th>\n",
       "      <th>average</th>\n",
       "      <th>total runs</th>\n",
       "      <th>No of notouts</th>\n",
       "      <th>runs in last match</th>\n",
       "      <th>runs in last second match</th>\n",
       "      <th>runs in last third match</th>\n",
       "      <th>runs in last fourth match</th>\n",
       "      <th>average on batting pitch</th>\n",
       "      <th>average on bowling pitch</th>\n",
       "    </tr>\n",
       "  </thead>\n",
       "  <tbody>\n",
       "    <tr>\n",
       "      <th>0</th>\n",
       "      <td>Jo Root</td>\n",
       "      <td>ENG</td>\n",
       "      <td>25</td>\n",
       "      <td>10</td>\n",
       "      <td>170</td>\n",
       "      <td>15</td>\n",
       "      <td>40</td>\n",
       "      <td>400</td>\n",
       "      <td>3</td>\n",
       "      <td>65</td>\n",
       "      <td>32</td>\n",
       "      <td>42</td>\n",
       "      <td>38</td>\n",
       "      <td>46</td>\n",
       "      <td>26</td>\n",
       "    </tr>\n",
       "    <tr>\n",
       "      <th>1</th>\n",
       "      <td>Virat Kohl</td>\n",
       "      <td>IND</td>\n",
       "      <td>25</td>\n",
       "      <td>10</td>\n",
       "      <td>180</td>\n",
       "      <td>18</td>\n",
       "      <td>52</td>\n",
       "      <td>520</td>\n",
       "      <td>5</td>\n",
       "      <td>83</td>\n",
       "      <td>36</td>\n",
       "      <td>35</td>\n",
       "      <td>32</td>\n",
       "      <td>53</td>\n",
       "      <td>31</td>\n",
       "    </tr>\n",
       "    <tr>\n",
       "      <th>2</th>\n",
       "      <td>Steven smith</td>\n",
       "      <td>AUS</td>\n",
       "      <td>25</td>\n",
       "      <td>10</td>\n",
       "      <td>175</td>\n",
       "      <td>12</td>\n",
       "      <td>51</td>\n",
       "      <td>510</td>\n",
       "      <td>5</td>\n",
       "      <td>24</td>\n",
       "      <td>28</td>\n",
       "      <td>29</td>\n",
       "      <td>36</td>\n",
       "      <td>56</td>\n",
       "      <td>29</td>\n",
       "    </tr>\n",
       "    <tr>\n",
       "      <th>3</th>\n",
       "      <td>Faf Duplessi</td>\n",
       "      <td>SA</td>\n",
       "      <td>25</td>\n",
       "      <td>10</td>\n",
       "      <td>160</td>\n",
       "      <td>8</td>\n",
       "      <td>38</td>\n",
       "      <td>380</td>\n",
       "      <td>0</td>\n",
       "      <td>42</td>\n",
       "      <td>18</td>\n",
       "      <td>36</td>\n",
       "      <td>38</td>\n",
       "      <td>41</td>\n",
       "      <td>18</td>\n",
       "    </tr>\n",
       "    <tr>\n",
       "      <th>4</th>\n",
       "      <td>Kan Williamson</td>\n",
       "      <td>NZ</td>\n",
       "      <td>25</td>\n",
       "      <td>10</td>\n",
       "      <td>150</td>\n",
       "      <td>32</td>\n",
       "      <td>36</td>\n",
       "      <td>360</td>\n",
       "      <td>1</td>\n",
       "      <td>37</td>\n",
       "      <td>7</td>\n",
       "      <td>121</td>\n",
       "      <td>45</td>\n",
       "      <td>40</td>\n",
       "      <td>16</td>\n",
       "    </tr>\n",
       "  </tbody>\n",
       "</table>\n",
       "</div>"
      ],
      "text/plain": [
       "      player name nation  age  matches played  highest score  lowest score  \\\n",
       "0         Jo Root    ENG   25              10            170            15   \n",
       "1      Virat Kohl    IND   25              10            180            18   \n",
       "2    Steven smith    AUS   25              10            175            12   \n",
       "3    Faf Duplessi     SA   25              10            160             8   \n",
       "4  Kan Williamson     NZ   25              10            150            32   \n",
       "\n",
       "   average  total runs  No of notouts  runs in last match  \\\n",
       "0       40         400              3                  65   \n",
       "1       52         520              5                  83   \n",
       "2       51         510              5                  24   \n",
       "3       38         380              0                  42   \n",
       "4       36         360              1                  37   \n",
       "\n",
       "   runs in last second match  runs in last third match  \\\n",
       "0                         32                        42   \n",
       "1                         36                        35   \n",
       "2                         28                        29   \n",
       "3                         18                        36   \n",
       "4                          7                       121   \n",
       "\n",
       "   runs in last fourth match  average on batting pitch  \\\n",
       "0                         38                        46   \n",
       "1                         32                        53   \n",
       "2                         36                        56   \n",
       "3                         38                        41   \n",
       "4                         45                        40   \n",
       "\n",
       "   average on bowling pitch  \n",
       "0                        26  \n",
       "1                        31  \n",
       "2                        29  \n",
       "3                        18  \n",
       "4                        16  "
      ]
     },
     "execution_count": 9,
     "metadata": {},
     "output_type": "execute_result"
    }
   ],
   "source": [
    "data"
   ]
  },
  {
   "cell_type": "code",
   "execution_count": 10,
   "metadata": {},
   "outputs": [
    {
     "data": {
      "text/html": [
       "<div>\n",
       "<style scoped>\n",
       "    .dataframe tbody tr th:only-of-type {\n",
       "        vertical-align: middle;\n",
       "    }\n",
       "\n",
       "    .dataframe tbody tr th {\n",
       "        vertical-align: top;\n",
       "    }\n",
       "\n",
       "    .dataframe thead th {\n",
       "        text-align: right;\n",
       "    }\n",
       "</style>\n",
       "<table border=\"1\" class=\"dataframe\">\n",
       "  <thead>\n",
       "    <tr style=\"text-align: right;\">\n",
       "      <th></th>\n",
       "      <th>age</th>\n",
       "      <th>matches played</th>\n",
       "      <th>highest score</th>\n",
       "      <th>lowest score</th>\n",
       "      <th>average</th>\n",
       "      <th>total runs</th>\n",
       "      <th>No of notouts</th>\n",
       "      <th>runs in last match</th>\n",
       "      <th>runs in last second match</th>\n",
       "      <th>runs in last third match</th>\n",
       "      <th>runs in last fourth match</th>\n",
       "      <th>average on batting pitch</th>\n",
       "      <th>average on bowling pitch</th>\n",
       "    </tr>\n",
       "  </thead>\n",
       "  <tbody>\n",
       "    <tr>\n",
       "      <th>count</th>\n",
       "      <td>5.0</td>\n",
       "      <td>5.0</td>\n",
       "      <td>5.000000</td>\n",
       "      <td>5.000000</td>\n",
       "      <td>5.000000</td>\n",
       "      <td>5.000000</td>\n",
       "      <td>5.000000</td>\n",
       "      <td>5.00000</td>\n",
       "      <td>5.00000</td>\n",
       "      <td>5.000000</td>\n",
       "      <td>5.000000</td>\n",
       "      <td>5.000000</td>\n",
       "      <td>5.000000</td>\n",
       "    </tr>\n",
       "    <tr>\n",
       "      <th>mean</th>\n",
       "      <td>25.0</td>\n",
       "      <td>10.0</td>\n",
       "      <td>167.000000</td>\n",
       "      <td>17.000000</td>\n",
       "      <td>43.400000</td>\n",
       "      <td>434.000000</td>\n",
       "      <td>2.800000</td>\n",
       "      <td>50.20000</td>\n",
       "      <td>24.20000</td>\n",
       "      <td>52.600000</td>\n",
       "      <td>37.800000</td>\n",
       "      <td>47.200000</td>\n",
       "      <td>24.000000</td>\n",
       "    </tr>\n",
       "    <tr>\n",
       "      <th>std</th>\n",
       "      <td>0.0</td>\n",
       "      <td>0.0</td>\n",
       "      <td>12.041595</td>\n",
       "      <td>9.165151</td>\n",
       "      <td>7.536577</td>\n",
       "      <td>75.365775</td>\n",
       "      <td>2.280351</td>\n",
       "      <td>23.57329</td>\n",
       "      <td>11.71324</td>\n",
       "      <td>38.513634</td>\n",
       "      <td>4.711688</td>\n",
       "      <td>7.120393</td>\n",
       "      <td>6.670832</td>\n",
       "    </tr>\n",
       "    <tr>\n",
       "      <th>min</th>\n",
       "      <td>25.0</td>\n",
       "      <td>10.0</td>\n",
       "      <td>150.000000</td>\n",
       "      <td>8.000000</td>\n",
       "      <td>36.000000</td>\n",
       "      <td>360.000000</td>\n",
       "      <td>0.000000</td>\n",
       "      <td>24.00000</td>\n",
       "      <td>7.00000</td>\n",
       "      <td>29.000000</td>\n",
       "      <td>32.000000</td>\n",
       "      <td>40.000000</td>\n",
       "      <td>16.000000</td>\n",
       "    </tr>\n",
       "    <tr>\n",
       "      <th>25%</th>\n",
       "      <td>25.0</td>\n",
       "      <td>10.0</td>\n",
       "      <td>160.000000</td>\n",
       "      <td>12.000000</td>\n",
       "      <td>38.000000</td>\n",
       "      <td>380.000000</td>\n",
       "      <td>1.000000</td>\n",
       "      <td>37.00000</td>\n",
       "      <td>18.00000</td>\n",
       "      <td>35.000000</td>\n",
       "      <td>36.000000</td>\n",
       "      <td>41.000000</td>\n",
       "      <td>18.000000</td>\n",
       "    </tr>\n",
       "    <tr>\n",
       "      <th>50%</th>\n",
       "      <td>25.0</td>\n",
       "      <td>10.0</td>\n",
       "      <td>170.000000</td>\n",
       "      <td>15.000000</td>\n",
       "      <td>40.000000</td>\n",
       "      <td>400.000000</td>\n",
       "      <td>3.000000</td>\n",
       "      <td>42.00000</td>\n",
       "      <td>28.00000</td>\n",
       "      <td>36.000000</td>\n",
       "      <td>38.000000</td>\n",
       "      <td>46.000000</td>\n",
       "      <td>26.000000</td>\n",
       "    </tr>\n",
       "    <tr>\n",
       "      <th>75%</th>\n",
       "      <td>25.0</td>\n",
       "      <td>10.0</td>\n",
       "      <td>175.000000</td>\n",
       "      <td>18.000000</td>\n",
       "      <td>51.000000</td>\n",
       "      <td>510.000000</td>\n",
       "      <td>5.000000</td>\n",
       "      <td>65.00000</td>\n",
       "      <td>32.00000</td>\n",
       "      <td>42.000000</td>\n",
       "      <td>38.000000</td>\n",
       "      <td>53.000000</td>\n",
       "      <td>29.000000</td>\n",
       "    </tr>\n",
       "    <tr>\n",
       "      <th>max</th>\n",
       "      <td>25.0</td>\n",
       "      <td>10.0</td>\n",
       "      <td>180.000000</td>\n",
       "      <td>32.000000</td>\n",
       "      <td>52.000000</td>\n",
       "      <td>520.000000</td>\n",
       "      <td>5.000000</td>\n",
       "      <td>83.00000</td>\n",
       "      <td>36.00000</td>\n",
       "      <td>121.000000</td>\n",
       "      <td>45.000000</td>\n",
       "      <td>56.000000</td>\n",
       "      <td>31.000000</td>\n",
       "    </tr>\n",
       "  </tbody>\n",
       "</table>\n",
       "</div>"
      ],
      "text/plain": [
       "        age  matches played  highest score  lowest score    average  \\\n",
       "count   5.0             5.0       5.000000      5.000000   5.000000   \n",
       "mean   25.0            10.0     167.000000     17.000000  43.400000   \n",
       "std     0.0             0.0      12.041595      9.165151   7.536577   \n",
       "min    25.0            10.0     150.000000      8.000000  36.000000   \n",
       "25%    25.0            10.0     160.000000     12.000000  38.000000   \n",
       "50%    25.0            10.0     170.000000     15.000000  40.000000   \n",
       "75%    25.0            10.0     175.000000     18.000000  51.000000   \n",
       "max    25.0            10.0     180.000000     32.000000  52.000000   \n",
       "\n",
       "       total runs  No of notouts  runs in last match  \\\n",
       "count    5.000000       5.000000             5.00000   \n",
       "mean   434.000000       2.800000            50.20000   \n",
       "std     75.365775       2.280351            23.57329   \n",
       "min    360.000000       0.000000            24.00000   \n",
       "25%    380.000000       1.000000            37.00000   \n",
       "50%    400.000000       3.000000            42.00000   \n",
       "75%    510.000000       5.000000            65.00000   \n",
       "max    520.000000       5.000000            83.00000   \n",
       "\n",
       "       runs in last second match  runs in last third match  \\\n",
       "count                    5.00000                  5.000000   \n",
       "mean                    24.20000                 52.600000   \n",
       "std                     11.71324                 38.513634   \n",
       "min                      7.00000                 29.000000   \n",
       "25%                     18.00000                 35.000000   \n",
       "50%                     28.00000                 36.000000   \n",
       "75%                     32.00000                 42.000000   \n",
       "max                     36.00000                121.000000   \n",
       "\n",
       "       runs in last fourth match  average on batting pitch  \\\n",
       "count                   5.000000                  5.000000   \n",
       "mean                   37.800000                 47.200000   \n",
       "std                     4.711688                  7.120393   \n",
       "min                    32.000000                 40.000000   \n",
       "25%                    36.000000                 41.000000   \n",
       "50%                    38.000000                 46.000000   \n",
       "75%                    38.000000                 53.000000   \n",
       "max                    45.000000                 56.000000   \n",
       "\n",
       "       average on bowling pitch  \n",
       "count                  5.000000  \n",
       "mean                  24.000000  \n",
       "std                    6.670832  \n",
       "min                   16.000000  \n",
       "25%                   18.000000  \n",
       "50%                   26.000000  \n",
       "75%                   29.000000  \n",
       "max                   31.000000  "
      ]
     },
     "execution_count": 10,
     "metadata": {},
     "output_type": "execute_result"
    }
   ],
   "source": [
    "data.describe()"
   ]
  },
  {
   "cell_type": "code",
   "execution_count": 23,
   "metadata": {},
   "outputs": [],
   "source": [
    "df=pd.DataFrame({'player name':['Jo Root','Virat Kohl','Steven smith','Faf Duplessi','Kan Williamson'],'runs_in_last_match':[65,83,24,42,37],'runs_in_last_second_match':[32,36,28,18,7],'runs_in_last_third_match':[42,35,29,36,121],'runs_in_last_fourth_match':[38,32,36,38,45]})"
   ]
  },
  {
   "cell_type": "code",
   "execution_count": 24,
   "metadata": {},
   "outputs": [
    {
     "data": {
      "text/html": [
       "<div>\n",
       "<style scoped>\n",
       "    .dataframe tbody tr th:only-of-type {\n",
       "        vertical-align: middle;\n",
       "    }\n",
       "\n",
       "    .dataframe tbody tr th {\n",
       "        vertical-align: top;\n",
       "    }\n",
       "\n",
       "    .dataframe thead th {\n",
       "        text-align: right;\n",
       "    }\n",
       "</style>\n",
       "<table border=\"1\" class=\"dataframe\">\n",
       "  <thead>\n",
       "    <tr style=\"text-align: right;\">\n",
       "      <th></th>\n",
       "      <th>player name</th>\n",
       "      <th>runs_in_last_match</th>\n",
       "      <th>runs_in_last_second_match</th>\n",
       "      <th>runs_in_last_third_match</th>\n",
       "      <th>runs_in_last_fourth_match</th>\n",
       "    </tr>\n",
       "  </thead>\n",
       "  <tbody>\n",
       "    <tr>\n",
       "      <th>0</th>\n",
       "      <td>Jo Root</td>\n",
       "      <td>65</td>\n",
       "      <td>32</td>\n",
       "      <td>42</td>\n",
       "      <td>38</td>\n",
       "    </tr>\n",
       "    <tr>\n",
       "      <th>1</th>\n",
       "      <td>Virat Kohl</td>\n",
       "      <td>83</td>\n",
       "      <td>36</td>\n",
       "      <td>35</td>\n",
       "      <td>32</td>\n",
       "    </tr>\n",
       "    <tr>\n",
       "      <th>2</th>\n",
       "      <td>Steven smith</td>\n",
       "      <td>24</td>\n",
       "      <td>28</td>\n",
       "      <td>29</td>\n",
       "      <td>36</td>\n",
       "    </tr>\n",
       "    <tr>\n",
       "      <th>3</th>\n",
       "      <td>Faf Duplessi</td>\n",
       "      <td>42</td>\n",
       "      <td>18</td>\n",
       "      <td>36</td>\n",
       "      <td>38</td>\n",
       "    </tr>\n",
       "    <tr>\n",
       "      <th>4</th>\n",
       "      <td>Kan Williamson</td>\n",
       "      <td>37</td>\n",
       "      <td>7</td>\n",
       "      <td>121</td>\n",
       "      <td>45</td>\n",
       "    </tr>\n",
       "  </tbody>\n",
       "</table>\n",
       "</div>"
      ],
      "text/plain": [
       "      player name  runs_in_last_match  runs_in_last_second_match  \\\n",
       "0         Jo Root                  65                         32   \n",
       "1      Virat Kohl                  83                         36   \n",
       "2    Steven smith                  24                         28   \n",
       "3    Faf Duplessi                  42                         18   \n",
       "4  Kan Williamson                  37                          7   \n",
       "\n",
       "   runs_in_last_third_match  runs_in_last_fourth_match  \n",
       "0                        42                         38  \n",
       "1                        35                         32  \n",
       "2                        29                         36  \n",
       "3                        36                         38  \n",
       "4                       121                         45  "
      ]
     },
     "execution_count": 24,
     "metadata": {},
     "output_type": "execute_result"
    }
   ],
   "source": [
    "df"
   ]
  },
  {
   "cell_type": "code",
   "execution_count": 27,
   "metadata": {},
   "outputs": [],
   "source": [
    "average_of_last_four_matches=[]\n",
    "for index, row in df.iterrows():\n",
    "    average_of_last_four_matches.append((row.runs_in_last_match+row.runs_in_last_second_match+row.runs_in_last_third_match+row.runs_in_last_fourth_match)/4)"
   ]
  },
  {
   "cell_type": "code",
   "execution_count": 28,
   "metadata": {},
   "outputs": [
    {
     "data": {
      "text/plain": [
       "[44.25, 46.5, 29.25, 33.5, 52.5]"
      ]
     },
     "execution_count": 28,
     "metadata": {},
     "output_type": "execute_result"
    }
   ],
   "source": [
    "average_of_last_four_matches"
   ]
  },
  {
   "cell_type": "code",
   "execution_count": 29,
   "metadata": {},
   "outputs": [],
   "source": [
    "df['average_of_last_four_matches']=average_of_last_four_matches"
   ]
  },
  {
   "cell_type": "code",
   "execution_count": 30,
   "metadata": {},
   "outputs": [
    {
     "data": {
      "text/html": [
       "<div>\n",
       "<style scoped>\n",
       "    .dataframe tbody tr th:only-of-type {\n",
       "        vertical-align: middle;\n",
       "    }\n",
       "\n",
       "    .dataframe tbody tr th {\n",
       "        vertical-align: top;\n",
       "    }\n",
       "\n",
       "    .dataframe thead th {\n",
       "        text-align: right;\n",
       "    }\n",
       "</style>\n",
       "<table border=\"1\" class=\"dataframe\">\n",
       "  <thead>\n",
       "    <tr style=\"text-align: right;\">\n",
       "      <th></th>\n",
       "      <th>player name</th>\n",
       "      <th>runs_in_last_match</th>\n",
       "      <th>runs_in_last_second_match</th>\n",
       "      <th>runs_in_last_third_match</th>\n",
       "      <th>runs_in_last_fourth_match</th>\n",
       "      <th>average_of_last_four_matches</th>\n",
       "    </tr>\n",
       "  </thead>\n",
       "  <tbody>\n",
       "    <tr>\n",
       "      <th>0</th>\n",
       "      <td>Jo Root</td>\n",
       "      <td>65</td>\n",
       "      <td>32</td>\n",
       "      <td>42</td>\n",
       "      <td>38</td>\n",
       "      <td>44.25</td>\n",
       "    </tr>\n",
       "    <tr>\n",
       "      <th>1</th>\n",
       "      <td>Virat Kohl</td>\n",
       "      <td>83</td>\n",
       "      <td>36</td>\n",
       "      <td>35</td>\n",
       "      <td>32</td>\n",
       "      <td>46.50</td>\n",
       "    </tr>\n",
       "    <tr>\n",
       "      <th>2</th>\n",
       "      <td>Steven smith</td>\n",
       "      <td>24</td>\n",
       "      <td>28</td>\n",
       "      <td>29</td>\n",
       "      <td>36</td>\n",
       "      <td>29.25</td>\n",
       "    </tr>\n",
       "    <tr>\n",
       "      <th>3</th>\n",
       "      <td>Faf Duplessi</td>\n",
       "      <td>42</td>\n",
       "      <td>18</td>\n",
       "      <td>36</td>\n",
       "      <td>38</td>\n",
       "      <td>33.50</td>\n",
       "    </tr>\n",
       "    <tr>\n",
       "      <th>4</th>\n",
       "      <td>Kan Williamson</td>\n",
       "      <td>37</td>\n",
       "      <td>7</td>\n",
       "      <td>121</td>\n",
       "      <td>45</td>\n",
       "      <td>52.50</td>\n",
       "    </tr>\n",
       "  </tbody>\n",
       "</table>\n",
       "</div>"
      ],
      "text/plain": [
       "      player name  runs_in_last_match  runs_in_last_second_match  \\\n",
       "0         Jo Root                  65                         32   \n",
       "1      Virat Kohl                  83                         36   \n",
       "2    Steven smith                  24                         28   \n",
       "3    Faf Duplessi                  42                         18   \n",
       "4  Kan Williamson                  37                          7   \n",
       "\n",
       "   runs_in_last_third_match  runs_in_last_fourth_match  \\\n",
       "0                        42                         38   \n",
       "1                        35                         32   \n",
       "2                        29                         36   \n",
       "3                        36                         38   \n",
       "4                       121                         45   \n",
       "\n",
       "   average_of_last_four_matches  \n",
       "0                         44.25  \n",
       "1                         46.50  \n",
       "2                         29.25  \n",
       "3                         33.50  \n",
       "4                         52.50  "
      ]
     },
     "execution_count": 30,
     "metadata": {},
     "output_type": "execute_result"
    }
   ],
   "source": [
    "df"
   ]
  },
  {
   "cell_type": "code",
   "execution_count": 32,
   "metadata": {},
   "outputs": [
    {
     "name": "stdout",
     "output_type": "stream",
     "text": [
      "player likely to perform well in next match:\n"
     ]
    },
    {
     "data": {
      "text/plain": [
       "player name                     Kan Williamson\n",
       "runs_in_last_match                          37\n",
       "runs_in_last_second_match                    7\n",
       "runs_in_last_third_match                   121\n",
       "runs_in_last_fourth_match                   45\n",
       "average_of_last_four_matches              52.5\n",
       "Name: 4, dtype: object"
      ]
     },
     "execution_count": 32,
     "metadata": {},
     "output_type": "execute_result"
    }
   ],
   "source": [
    "print(\"player likely to perform well in next match:\")\n",
    "df.loc[df['average_of_last_four_matches'].idxmax()]"
   ]
  },
  {
   "cell_type": "code",
   "execution_count": 33,
   "metadata": {},
   "outputs": [
    {
     "name": "stdout",
     "output_type": "stream",
     "text": [
      "player likely to perform well on batting match:\n"
     ]
    },
    {
     "data": {
      "text/plain": [
       "player name                  Steven smith\n",
       "nation                                AUS\n",
       "age                                    25\n",
       "matches played                         10\n",
       "highest score                         175\n",
       "lowest score                           12\n",
       "average                                51\n",
       "total runs                            510\n",
       "No of notouts                           5\n",
       "runs in last match                     24\n",
       "runs in last second match              28\n",
       "runs in last third match               29\n",
       "runs in last fourth match              36\n",
       "average on batting pitch               56\n",
       "average on bowling pitch               29\n",
       "Name: 2, dtype: object"
      ]
     },
     "execution_count": 33,
     "metadata": {},
     "output_type": "execute_result"
    }
   ],
   "source": [
    "print(\"player likely to perform well on batting match:\")\n",
    "data.loc[data['average on batting pitch'].idxmax()]"
   ]
  },
  {
   "cell_type": "code",
   "execution_count": 34,
   "metadata": {},
   "outputs": [
    {
     "name": "stdout",
     "output_type": "stream",
     "text": [
      "player likely to perform well on bowling match:\n"
     ]
    },
    {
     "data": {
      "text/plain": [
       "player name                  Virat Kohl\n",
       "nation                              IND\n",
       "age                                  25\n",
       "matches played                       10\n",
       "highest score                       180\n",
       "lowest score                         18\n",
       "average                              52\n",
       "total runs                          520\n",
       "No of notouts                         5\n",
       "runs in last match                   83\n",
       "runs in last second match            36\n",
       "runs in last third match             35\n",
       "runs in last fourth match            32\n",
       "average on batting pitch             53\n",
       "average on bowling pitch             31\n",
       "Name: 1, dtype: object"
      ]
     },
     "execution_count": 34,
     "metadata": {},
     "output_type": "execute_result"
    }
   ],
   "source": [
    "print(\"player likely to perform well on bowling match:\")\n",
    "data.loc[data['average on bowling pitch'].idxmax()]"
   ]
  },
  {
   "cell_type": "code",
   "execution_count": 41,
   "metadata": {
    "scrolled": false
   },
   "outputs": [
    {
     "name": "stdout",
     "output_type": "stream",
     "text": [
      "analyzing total runs scored by each player\n"
     ]
    },
    {
     "data": {
      "image/png": "[encoded data removed]",
      "text/plain": [
       "<Figure size 432x288 with 1 Axes>"
      ]
     },
     "metadata": {},
     "output_type": "display_data"
    }
   ],
   "source": [
    "print(\"analyzing total runs scored by each player\")\n",
    "import matplotlib.pyplot as plt\n",
    "players=['Jo Root','Virat Kohl','Steven smith','Faf Duplessi','Kan Williamson']\n",
    "scores=[400,520,510,380,360]\n",
    "color=['b','c','y','g','m']\n",
    "plt.pie(scores,labels=players,colors=color,startangle=90,shadow=True,explode=(0,0,0,0,0),radius=1.2,autopct='%1.1f%%')\n",
    "plt.legend()\n",
    "plt.show()"
   ]
  },
  {
   "cell_type": "code",
   "execution_count": 42,
   "metadata": {},
   "outputs": [
    {
     "name": "stdout",
     "output_type": "stream",
     "text": [
      "analyzing highest score of each player\n"
     ]
    },
    {
     "data": {
      "image/png": "[encoded data removed]",
      "text/plain": [
       "<Figure size 432x288 with 1 Axes>"
      ]
     },
     "metadata": {
      "needs_background": "light"
     },
     "output_type": "display_data"
    }
   ],
   "source": [
    "print(\"analyzing highest score of each player\")\n",
    "left = [1,2,3,4,5]\n",
    "height=[170,180,175,160,150]\n",
    "players=['Jo Root','Virat Kohl','Steven smith','Faf Duplessi','Kan Williamson']\n",
    "plt.bar(left,height,tick_label=players,width=0.8,color=color)\n",
    "plt.xlabel('x-axis')\n",
    "plt.ylabel('y-axis')\n",
    "plt.title(\"highest scores\")\n",
    "plt.show()"
   ]
  },
  {
   "cell_type": "code",
   "execution_count": 47,
   "metadata": {},
   "outputs": [
    {
     "name": "stdout",
     "output_type": "stream",
     "text": [
      "analayzing runs in last four matches\n"
     ]
    },
    {
     "data": {
      "image/png": "[encoded data removed]",
      "text/plain": [
       "<Figure size 432x288 with 1 Axes>"
      ]
     },
     "metadata": {
      "needs_background": "light"
     },
     "output_type": "display_data"
    }
   ],
   "source": [
    "print(\"analayzing runs in last four matches\")\n",
    "import matplotlib.pyplot as plt\n",
    "x1=[1,2,3,4]\n",
    "y1=[65,32,42,38]\n",
    "plt.plot(x1,y1,label=\"Jo Root\")\n",
    "y2=[83,36,35,32]\n",
    "plt.plot(x1,y2,label=\"Virat Kohl\")\n",
    "y3=[24,28,29,36]\n",
    "plt.plot(x1,y3,label='Steven smith')\n",
    "y4=[42,18,36,38]\n",
    "plt.plot(x1,y4,label='Faf Duplessi')\n",
    "y5=[37,7,121,45]\n",
    "plt.plot(x1,y5,label='Kan Williamson')\n",
    "plt.xlabel('x-axis')\n",
    "plt.ylabel('y-axis')\n",
    "plt.title(\"runs in last four matches\")\n",
    "plt.legend()\n",
    "plt.show()"
   ]
  },
  {
   "cell_type": "code",
   "execution_count": 62,
   "metadata": {},
   "outputs": [
    {
     "name": "stdout",
     "output_type": "stream",
     "text": [
      "players with total number of notouts\n"
     ]
    },
    {
     "data": {
      "text/plain": [
       "player name\n",
       "Faf Duplessi      0\n",
       "Jo Root           3\n",
       "Kan Williamson    1\n",
       "Steven smith      5\n",
       "Virat Kohl        5\n",
       "Name: No of notouts, dtype: int64"
      ]
     },
     "execution_count": 62,
     "metadata": {},
     "output_type": "execute_result"
    }
   ],
   "source": [
    "print(\"players with total number of notouts\")\n",
    "data.groupby(['player name'])['No of notouts'].max()"
   ]
  },
  {
   "cell_type": "code",
   "execution_count": 58,
   "metadata": {},
   "outputs": [
    {
     "name": "stdout",
     "output_type": "stream",
     "text": [
      "therefore Steven smith and Virat Kohl have more chances to stay notout in upcoming match\n"
     ]
    }
   ],
   "source": [
    "print(\"therefore Steven smith and Virat Kohl have more chances to stay notout in upcoming match\")"
   ]
  },
  {
   "cell_type": "code",
   "execution_count": 64,
   "metadata": {},
   "outputs": [
    {
     "name": "stdout",
     "output_type": "stream",
     "text": [
      "player name and his county name along with his age\n"
     ]
    },
    {
     "data": {
      "text/html": [
       "<div>\n",
       "<style scoped>\n",
       "    .dataframe tbody tr th:only-of-type {\n",
       "        vertical-align: middle;\n",
       "    }\n",
       "\n",
       "    .dataframe tbody tr th {\n",
       "        vertical-align: top;\n",
       "    }\n",
       "\n",
       "    .dataframe thead th {\n",
       "        text-align: right;\n",
       "    }\n",
       "</style>\n",
       "<table border=\"1\" class=\"dataframe\">\n",
       "  <thead>\n",
       "    <tr style=\"text-align: right;\">\n",
       "      <th></th>\n",
       "      <th>player name</th>\n",
       "      <th>nation</th>\n",
       "      <th>age</th>\n",
       "    </tr>\n",
       "  </thead>\n",
       "  <tbody>\n",
       "    <tr>\n",
       "      <th>0</th>\n",
       "      <td>Jo Root</td>\n",
       "      <td>ENG</td>\n",
       "      <td>25</td>\n",
       "    </tr>\n",
       "    <tr>\n",
       "      <th>1</th>\n",
       "      <td>Virat Kohl</td>\n",
       "      <td>IND</td>\n",
       "      <td>25</td>\n",
       "    </tr>\n",
       "    <tr>\n",
       "      <th>2</th>\n",
       "      <td>Steven smith</td>\n",
       "      <td>AUS</td>\n",
       "      <td>25</td>\n",
       "    </tr>\n",
       "    <tr>\n",
       "      <th>3</th>\n",
       "      <td>Faf Duplessi</td>\n",
       "      <td>SA</td>\n",
       "      <td>25</td>\n",
       "    </tr>\n",
       "    <tr>\n",
       "      <th>4</th>\n",
       "      <td>Kan Williamson</td>\n",
       "      <td>NZ</td>\n",
       "      <td>25</td>\n",
       "    </tr>\n",
       "  </tbody>\n",
       "</table>\n",
       "</div>"
      ],
      "text/plain": [
       "      player name nation  age\n",
       "0         Jo Root    ENG   25\n",
       "1      Virat Kohl    IND   25\n",
       "2    Steven smith    AUS   25\n",
       "3    Faf Duplessi     SA   25\n",
       "4  Kan Williamson     NZ   25"
      ]
     },
     "execution_count": 64,
     "metadata": {},
     "output_type": "execute_result"
    }
   ],
   "source": [
    "print(\"player name and his county name along with his age\")\n",
    "data[['player name','nation','age']]"
   ]
  },
  {
   "cell_type": "code",
   "execution_count": 65,
   "metadata": {},
   "outputs": [
    {
     "name": "stdout",
     "output_type": "stream",
     "text": [
      "in this way the given dataset can be analyzed and future possibilities can be predicted\n"
     ]
    }
   ],
   "source": [
    "print(\"in this way the given dataset can be analyzed and future possibilities can be predicted\")"
   ]
  },
  {
   "cell_type": "code",
   "execution_count": null,
   "metadata": {},
   "outputs": [],
   "source": []
  }
 ],
 "metadata": {
  "kernelspec": {
   "display_name": "Python 3",
   "language": "python",
   "name": "python3"
  },
  "language_info": {
   "codemirror_mode": {
    "name": "ipython",
    "version": 3
   },
   "file_extension": ".py",
   "mimetype": "text/x-python",
   "name": "python",
   "nbconvert_exporter": "python",
   "pygments_lexer": "ipython3",
   "version": "3.7.1"
  }
 },
 "nbformat": 4,
 "nbformat_minor": 2
}
